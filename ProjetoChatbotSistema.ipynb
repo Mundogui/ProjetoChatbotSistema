{
  "nbformat": 4,
  "nbformat_minor": 0,
  "metadata": {
    "colab": {
      "provenance": [],
      "authorship_tag": "ABX9TyPCuKAvMslTO9CTt7wayFV6",
      "include_colab_link": true
    },
    "kernelspec": {
      "name": "python3",
      "display_name": "Python 3"
    },
    "language_info": {
      "name": "python"
    }
  },
  "cells": [
    {
      "cell_type": "markdown",
      "metadata": {
        "id": "view-in-github",
        "colab_type": "text"
      },
      "source": [
        "<a href=\"https://colab.research.google.com/github/Mundogui/ProjetoChatbotSistema/blob/main/ProjetoChatbotSistema.ipynb\" target=\"_parent\"><img src=\"https://colab.research.google.com/assets/colab-badge.svg\" alt=\"Open In Colab\"/></a>"
      ]
    },
    {
      "cell_type": "code",
      "source": [
        "from flask import Flask, render_template\n",
        "from flask_socketio import SocketIO, send, emit\n",
        "\n",
        "app = Flask(__name__)\n",
        "app.config[\"SECRET\"] = \"ajuiahfa78fh9f78shfs768fgs7f6\"\n",
        "app.config[\"DEBUG\"] = True\n",
        "socketio = SocketIO(app, cors_allowed_origins=\"*\")\n",
        "\n",
        "# Importe a biblioteca do chatbot aqui\n",
        "import google.generativeai as genai\n",
        "\n",
        "# Configurações do chatbot\n",
        "GOOGLE_API_KEY = \"CHAVE API\"\n",
        "genai.configure(api_key=GOOGLE_API_KEY)\n",
        "\n",
        "generation_config = {\n",
        "  \"candidate_count\": 1,\n",
        "  \"temperature\": 0.5,\n",
        "}\n",
        "\n",
        "safety_settings = {\n",
        "    'HATE': 'BLOCK_NONE',\n",
        "    'HARASSMENT': 'BLOCK_NONE',\n",
        "    'SEXUAL': 'BLOCK_NONE',\n",
        "    'DANGEROUS': 'BLOCK_NONE'\n",
        "}\n",
        "\n",
        "model = genai.GenerativeModel(\n",
        "    model_name='gemini-1.0-pro',\n",
        "    generation_config=generation_config,\n",
        "    safety_settings=safety_settings\n",
        ")\n",
        "\n",
        "@app.route(\"/\")\n",
        "def home():\n",
        "    return render_template(\"index.html\")\n",
        "\n",
        "@socketio.on(\"message\")\n",
        "def gerenciar_mensagens(mensagem):\n",
        "    print(f\"Mensagem: {mensagem}\")\n",
        "\n",
        "    # Adicionando a resposta do chatbot\n",
        "    response = model.generate_content(mensagem)\n",
        "    emit(\"message\", response.text)  # Envie a mensagem para o cliente específico que a enviou\n",
        "\n",
        "if __name__ == \"__main__\":\n",
        "    socketio.run(app, host='localhost', allow_unsafe_werkzeug=True)\n"
      ],
      "metadata": {
        "id": "-RbA1_xUt2by"
      },
      "execution_count": null,
      "outputs": []
    }
  ]
}